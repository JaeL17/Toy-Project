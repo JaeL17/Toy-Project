{
 "cells": [
  {
   "cell_type": "code",
   "execution_count": 2,
   "metadata": {},
   "outputs": [],
   "source": [
    "import pandas as pd\n",
    "import os\n",
    "import glob"
   ]
  },
  {
   "cell_type": "code",
   "execution_count": 3,
   "metadata": {},
   "outputs": [],
   "source": [
    "# Creating file path\n",
    "path_train_neg = r\"C:\\Year4 Project\\aclImdb\\train\\neg\"\n",
    "path_train_pos = r\"C:\\Year4 Project\\aclImdb\\train\\pos\"\n",
    "path_test_neg = r\"C:\\Year4 Project\\aclImdb\\test\\neg\"\n",
    "path_test_pos = r\"C:\\Year4 Project\\aclImdb\\test\\pos\""
   ]
  },
  {
   "cell_type": "code",
   "execution_count": 3,
   "metadata": {},
   "outputs": [],
   "source": [
    "# Importing raw test dataset\n",
    "test_neg = []\n",
    "for path, dirs, files in os.walk(path_test_neg):\n",
    "    for f in files:\n",
    "        filename = os.path.join(path, f)\n",
    "        with open(filename, 'r', encoding='UTF-8') as myFile:\n",
    "            test_neg.append(myFile.read())"
   ]
  },
  {
   "cell_type": "code",
   "execution_count": 4,
   "metadata": {},
   "outputs": [],
   "source": [
    "test_pos = []\n",
    "for path, dirs, files in os.walk(path_test_pos):\n",
    "    for f in files:\n",
    "        filename = os.path.join(path, f)\n",
    "        with open(filename, 'r', encoding='UTF-8') as myFile:\n",
    "            test_pos.append(myFile.read())"
   ]
  },
  {
   "cell_type": "code",
   "execution_count": 5,
   "metadata": {},
   "outputs": [],
   "source": [
    "# Importing raw train dataset\n",
    "train_neg = []\n",
    "for path, dirs, files in os.walk(path_train_neg):\n",
    "    for f in files:\n",
    "        filename = os.path.join(path, f)\n",
    "        with open(filename, 'r', encoding='UTF-8') as myFile:\n",
    "            train_neg.append(myFile.read())"
   ]
  },
  {
   "cell_type": "code",
   "execution_count": 6,
   "metadata": {},
   "outputs": [],
   "source": [
    "train_pos = []\n",
    "for path, dirs, files in os.walk(path_train_pos):\n",
    "    for f in files:\n",
    "        filename = os.path.join(path, f)\n",
    "        with open(filename, 'r', encoding='UTF-8') as myFile:\n",
    "            train_pos.append(myFile.read())"
   ]
  },
  {
   "cell_type": "code",
   "execution_count": 7,
   "metadata": {},
   "outputs": [],
   "source": [
    "# Dataframe for test dataset\n",
    "# Negative = 0, Positive = 1\n",
    "df_test_neg = pd.DataFrame(test_neg, columns = ['Review'])\n",
    "df_test_neg.insert(1, 'Label', 0)\n",
    "df_test_pos = pd.DataFrame(test_pos, columns = ['Review'])\n",
    "df_test_pos.insert(1, 'Label', 1)\n",
    "\n",
    "df_test = pd.concat([df_test_neg, df_test_pos], ignore_index = True)"
   ]
  },
  {
   "cell_type": "code",
   "execution_count": 8,
   "metadata": {},
   "outputs": [],
   "source": [
    "# Dataframe for train dataset\n",
    "df_train_neg = pd.DataFrame(train_neg, columns = ['Review'])\n",
    "df_train_neg.insert(1, 'Label', 0)\n",
    "df_train_pos = pd.DataFrame(train_pos, columns = ['Review'])\n",
    "df_train_pos.insert(1, 'Label', 1)\n",
    "\n",
    "df_train = pd.concat([df_train_neg, df_train_pos], ignore_index = True)"
   ]
  },
  {
   "cell_type": "code",
   "execution_count": 18,
   "metadata": {},
   "outputs": [],
   "source": [
    "# Saving the results as a csv file\n",
    "df_test.to_csv('movie_review_train.csv', index=False)\n",
    "df_train.to_csv('movie_review_test.csv', index=False)"
   ]
  }
 ],
 "metadata": {
  "kernelspec": {
   "display_name": "Python 3",
   "language": "python",
   "name": "python3"
  },
  "language_info": {
   "codemirror_mode": {
    "name": "ipython",
    "version": 3
   },
   "file_extension": ".py",
   "mimetype": "text/x-python",
   "name": "python",
   "nbconvert_exporter": "python",
   "pygments_lexer": "ipython3",
   "version": "3.8.3"
  }
 },
 "nbformat": 4,
 "nbformat_minor": 4
}
