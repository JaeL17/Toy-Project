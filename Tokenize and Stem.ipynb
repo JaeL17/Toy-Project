{
 "cells": [
  {
   "cell_type": "code",
   "execution_count": 1,
   "metadata": {},
   "outputs": [],
   "source": [
    "import pandas as pd"
   ]
  },
  {
   "cell_type": "code",
   "execution_count": 2,
   "metadata": {},
   "outputs": [],
   "source": [
    "#import datasets\n",
    "df_train = pd.read_csv('movie_review_train.csv')\n",
    "df_test = pd.read_csv('movie_review_test.csv')"
   ]
  },
  {
   "cell_type": "code",
   "execution_count": 3,
   "metadata": {},
   "outputs": [],
   "source": [
    "import nltk\n",
    "from nltk.stem import PorterStemmer\n",
    "ps = PorterStemmer()\n",
    "array_train = []\n",
    "for review in df_train['Review'].values:\n",
    "    tokens = nltk.word_tokenize(review)\n",
    "    array = []\n",
    "    for word in tokens:\n",
    "        array.append(ps.stem(word))    \n",
    "    sentence = \" \".join(array)\n",
    "    array_train.append(sentence)"
   ]
  },
  {
   "cell_type": "code",
   "execution_count": 4,
   "metadata": {},
   "outputs": [],
   "source": [
    "array_test = []\n",
    "for review in df_test['Review'].values:\n",
    "    tokens = nltk.word_tokenize(review)\n",
    "    array = []\n",
    "    for word in tokens:\n",
    "        array.append(ps.stem(word))    \n",
    "    sentence = \" \".join(array)\n",
    "    array_test.append(sentence)"
   ]
  },
  {
   "cell_type": "code",
   "execution_count": 17,
   "metadata": {},
   "outputs": [],
   "source": [
    "df_train_stemmed = df_train.assign(stemmed_review = array_train)[['stemmed_review', 'Label']]\n",
    "df_test_stemmed = df_test.assign(stemmed_review = array_test)[['stemmed_review', 'Label']]"
   ]
  },
  {
   "cell_type": "code",
   "execution_count": 23,
   "metadata": {},
   "outputs": [],
   "source": [
    "df_test_stemmed.to_csv('movie_review_test_stemmed.csv', index=False)\n",
    "df_train_stemmed.to_csv('movie_review_train_stemmed.csv', index=False)"
   ]
  },
  {
   "cell_type": "code",
   "execution_count": null,
   "metadata": {},
   "outputs": [],
   "source": []
  }
 ],
 "metadata": {
  "kernelspec": {
   "display_name": "Python 3",
   "language": "python",
   "name": "python3"
  },
  "language_info": {
   "codemirror_mode": {
    "name": "ipython",
    "version": 3
   },
   "file_extension": ".py",
   "mimetype": "text/x-python",
   "name": "python",
   "nbconvert_exporter": "python",
   "pygments_lexer": "ipython3",
   "version": "3.8.3"
  }
 },
 "nbformat": 4,
 "nbformat_minor": 4
}
